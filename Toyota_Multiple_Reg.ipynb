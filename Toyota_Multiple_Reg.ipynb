{
  "nbformat": 4,
  "nbformat_minor": 0,
  "metadata": {
    "colab": {
      "provenance": []
    },
    "kernelspec": {
      "name": "python3",
      "display_name": "Python 3"
    },
    "language_info": {
      "name": "python"
    }
  },
  "cells": [
    {
      "cell_type": "code",
      "execution_count": null,
      "metadata": {
        "id": "XRcXLktRzfUQ"
      },
      "outputs": [],
      "source": [
        "import pandas as pd\n",
        "import numpy as np\n",
        "from sklearn.model_selection import train_test_split\n",
        "from sklearn.linear_model import LinearRegression\n",
        "from sklearn.metrics import r2_score"
      ]
    },
    {
      "cell_type": "code",
      "source": [
        "df=pd.read_csv('/content/1ToyotaCorolla.csv')"
      ],
      "metadata": {
        "id": "l0su7W8P0Hd4"
      },
      "execution_count": null,
      "outputs": []
    },
    {
      "cell_type": "code",
      "source": [
        "df.head"
      ],
      "metadata": {
        "colab": {
          "base_uri": "https://localhost:8080/"
        },
        "id": "-PoowCxy2so8",
        "outputId": "7173b85f-dc35-4eee-8c1c-7462fcb48477"
      },
      "execution_count": null,
      "outputs": [
        {
          "output_type": "execute_result",
          "data": {
            "text/plain": [
              "<bound method NDFrame.head of                                                   model  price  age_08_04  \\\n",
              "0         TOYOTA Corolla 2.0 D4D HATCHB TERRA 2/3-Doors  13500         23   \n",
              "1         TOYOTA Corolla 2.0 D4D HATCHB TERRA 2/3-Doors  13750         23   \n",
              "2         TOYOTA Corolla 2.0 D4D HATCHB TERRA 2/3-Doors  13950         24   \n",
              "3         TOYOTA Corolla 2.0 D4D HATCHB TERRA 2/3-Doors  14950         26   \n",
              "4           TOYOTA Corolla 2.0 D4D HATCHB SOL 2/3-Doors  13750         30   \n",
              "...                                                 ...    ...        ...   \n",
              "1431         TOYOTA Corolla 1.3 16V HATCHB G6 2/3-Doors   7500         69   \n",
              "1432  TOYOTA Corolla 1.3 16V HATCHB LINEA TERRA 2/3-...  10845         72   \n",
              "1433  TOYOTA Corolla 1.3 16V HATCHB LINEA TERRA 2/3-...   8500         71   \n",
              "1434  TOYOTA Corolla 1.3 16V HATCHB LINEA TERRA 2/3-...   7250         70   \n",
              "1435        TOYOTA Corolla 1.6 LB LINEA TERRA 4/5-Doors   6950         76   \n",
              "\n",
              "      mfg_month  mfg_year     km fuel_type   hp  met_color   color  ...  \\\n",
              "0            10      2002  46986    Diesel   90          1    Blue  ...   \n",
              "1            10      2002  72937    Diesel   90          1  Silver  ...   \n",
              "2             9      2002  41711    Diesel   90          1    Blue  ...   \n",
              "3             7      2002  48000    Diesel   90          0   Black  ...   \n",
              "4             3      2002  38500    Diesel   90          0   Black  ...   \n",
              "...         ...       ...    ...       ...  ...        ...     ...  ...   \n",
              "1431         12      1998  20544    Petrol   86          1    Blue  ...   \n",
              "1432          9      1998  19000    Petrol   86          0    Grey  ...   \n",
              "1433         10      1998  17016    Petrol   86          0    Blue  ...   \n",
              "1434         11      1998  16916    Petrol   86          1    Grey  ...   \n",
              "1435          5      1998      1    Petrol  110          0   Green  ...   \n",
              "\n",
              "      powered_windows  power_steering  radio  mistlamps  sport_model  \\\n",
              "0                   1               1      0          0            0   \n",
              "1                   0               1      0          0            0   \n",
              "2                   0               1      0          0            0   \n",
              "3                   0               1      0          0            0   \n",
              "4                   1               1      0          1            0   \n",
              "...               ...             ...    ...        ...          ...   \n",
              "1431                1               1      0          1            1   \n",
              "1432                0               1      0          0            1   \n",
              "1433                0               1      0          0            0   \n",
              "1434                0               0      0          0            0   \n",
              "1435                0               1      0          0            0   \n",
              "\n",
              "      backseat_divider  metallic_rim  radio_cassette  parking_assistant  \\\n",
              "0                    1             0               0                  0   \n",
              "1                    1             0               0                  0   \n",
              "2                    1             0               0                  0   \n",
              "3                    1             0               0                  0   \n",
              "4                    1             0               0                  0   \n",
              "...                ...           ...             ...                ...   \n",
              "1431                 1             0               0                  0   \n",
              "1432                 1             0               0                  0   \n",
              "1433                 1             0               0                  0   \n",
              "1434                 1             0               0                  0   \n",
              "1435                 0             0               0                  0   \n",
              "\n",
              "      tow_bar  \n",
              "0           0  \n",
              "1           0  \n",
              "2           0  \n",
              "3           0  \n",
              "4           0  \n",
              "...       ...  \n",
              "1431        0  \n",
              "1432        0  \n",
              "1433        0  \n",
              "1434        0  \n",
              "1435        0  \n",
              "\n",
              "[1436 rows x 38 columns]>"
            ]
          },
          "metadata": {},
          "execution_count": 4
        }
      ]
    },
    {
      "cell_type": "code",
      "source": [
        "df.info"
      ],
      "metadata": {
        "colab": {
          "base_uri": "https://localhost:8080/"
        },
        "id": "01h3eLZ00Rif",
        "outputId": "77000796-5843-436f-f230-2b4efeb5da5e"
      },
      "execution_count": null,
      "outputs": [
        {
          "output_type": "execute_result",
          "data": {
            "text/plain": [
              "<bound method DataFrame.info of                                                   model  price  age_08_04  \\\n",
              "0         TOYOTA Corolla 2.0 D4D HATCHB TERRA 2/3-Doors  13500         23   \n",
              "1         TOYOTA Corolla 2.0 D4D HATCHB TERRA 2/3-Doors  13750         23   \n",
              "2         TOYOTA Corolla 2.0 D4D HATCHB TERRA 2/3-Doors  13950         24   \n",
              "3         TOYOTA Corolla 2.0 D4D HATCHB TERRA 2/3-Doors  14950         26   \n",
              "4           TOYOTA Corolla 2.0 D4D HATCHB SOL 2/3-Doors  13750         30   \n",
              "...                                                 ...    ...        ...   \n",
              "1431         TOYOTA Corolla 1.3 16V HATCHB G6 2/3-Doors   7500         69   \n",
              "1432  TOYOTA Corolla 1.3 16V HATCHB LINEA TERRA 2/3-...  10845         72   \n",
              "1433  TOYOTA Corolla 1.3 16V HATCHB LINEA TERRA 2/3-...   8500         71   \n",
              "1434  TOYOTA Corolla 1.3 16V HATCHB LINEA TERRA 2/3-...   7250         70   \n",
              "1435        TOYOTA Corolla 1.6 LB LINEA TERRA 4/5-Doors   6950         76   \n",
              "\n",
              "      mfg_month  mfg_year     km fuel_type   hp  met_color   color  ...  \\\n",
              "0            10      2002  46986    Diesel   90          1    Blue  ...   \n",
              "1            10      2002  72937    Diesel   90          1  Silver  ...   \n",
              "2             9      2002  41711    Diesel   90          1    Blue  ...   \n",
              "3             7      2002  48000    Diesel   90          0   Black  ...   \n",
              "4             3      2002  38500    Diesel   90          0   Black  ...   \n",
              "...         ...       ...    ...       ...  ...        ...     ...  ...   \n",
              "1431         12      1998  20544    Petrol   86          1    Blue  ...   \n",
              "1432          9      1998  19000    Petrol   86          0    Grey  ...   \n",
              "1433         10      1998  17016    Petrol   86          0    Blue  ...   \n",
              "1434         11      1998  16916    Petrol   86          1    Grey  ...   \n",
              "1435          5      1998      1    Petrol  110          0   Green  ...   \n",
              "\n",
              "      powered_windows  power_steering  radio  mistlamps  sport_model  \\\n",
              "0                   1               1      0          0            0   \n",
              "1                   0               1      0          0            0   \n",
              "2                   0               1      0          0            0   \n",
              "3                   0               1      0          0            0   \n",
              "4                   1               1      0          1            0   \n",
              "...               ...             ...    ...        ...          ...   \n",
              "1431                1               1      0          1            1   \n",
              "1432                0               1      0          0            1   \n",
              "1433                0               1      0          0            0   \n",
              "1434                0               0      0          0            0   \n",
              "1435                0               1      0          0            0   \n",
              "\n",
              "      backseat_divider  metallic_rim  radio_cassette  parking_assistant  \\\n",
              "0                    1             0               0                  0   \n",
              "1                    1             0               0                  0   \n",
              "2                    1             0               0                  0   \n",
              "3                    1             0               0                  0   \n",
              "4                    1             0               0                  0   \n",
              "...                ...           ...             ...                ...   \n",
              "1431                 1             0               0                  0   \n",
              "1432                 1             0               0                  0   \n",
              "1433                 1             0               0                  0   \n",
              "1434                 1             0               0                  0   \n",
              "1435                 0             0               0                  0   \n",
              "\n",
              "      tow_bar  \n",
              "0           0  \n",
              "1           0  \n",
              "2           0  \n",
              "3           0  \n",
              "4           0  \n",
              "...       ...  \n",
              "1431        0  \n",
              "1432        0  \n",
              "1433        0  \n",
              "1434        0  \n",
              "1435        0  \n",
              "\n",
              "[1436 rows x 38 columns]>"
            ]
          },
          "metadata": {},
          "execution_count": 5
        }
      ]
    },
    {
      "cell_type": "code",
      "source": [],
      "metadata": {
        "id": "hf5szid7E7PD"
      },
      "execution_count": null,
      "outputs": []
    },
    {
      "cell_type": "markdown",
      "source": [
        "We'llConsider only the below columns and prepare a prediction model for predicting Price.\n",
        "\n",
        "(\"Price\",\"Age_08_04\",\"KM\",\"HP\",\"cc\",\"Doors\",\"Gears\",\"Quarterly_Tax\",\"Weight\")\n",
        "\n",
        ""
      ],
      "metadata": {
        "id": "KniuK4CTw14p"
      }
    },
    {
      "cell_type": "code",
      "source": [
        "df.columns"
      ],
      "metadata": {
        "colab": {
          "base_uri": "https://localhost:8080/"
        },
        "id": "7P--WBTWxCmH",
        "outputId": "3adeaf0f-94cd-4dc1-aac1-87a247f907e6"
      },
      "execution_count": null,
      "outputs": [
        {
          "output_type": "execute_result",
          "data": {
            "text/plain": [
              "Index(['model', 'price', 'age_08_04', 'mfg_month', 'mfg_year', 'km',\n",
              "       'fuel_type', 'hp', 'met_color', 'color', 'automatic', 'cc', 'doors',\n",
              "       'cylinders', 'gears', 'quarterly_tax', 'weight', 'mfr_guarantee',\n",
              "       'bovag_guarantee', 'guarantee_period', 'abs', 'airbag_1', 'airbag_2',\n",
              "       'airco', 'automatic_airco', 'boardcomputer', 'cd_player',\n",
              "       'central_lock', 'powered_windows', 'power_steering', 'radio',\n",
              "       'mistlamps', 'sport_model', 'backseat_divider', 'metallic_rim',\n",
              "       'radio_cassette', 'parking_assistant', 'tow_bar'],\n",
              "      dtype='object')"
            ]
          },
          "metadata": {},
          "execution_count": 6
        }
      ]
    },
    {
      "cell_type": "code",
      "source": [
        "df=df.iloc[:,[1,2,5,7,11,12,14,15,16]]"
      ],
      "metadata": {
        "id": "OdLRuzNwxVQI"
      },
      "execution_count": null,
      "outputs": []
    },
    {
      "cell_type": "code",
      "source": [
        "df"
      ],
      "metadata": {
        "colab": {
          "base_uri": "https://localhost:8080/",
          "height": 424
        },
        "id": "j88jmiJkyyPZ",
        "outputId": "48b4e0c6-367f-4ef5-ef2a-1d4ece27a209"
      },
      "execution_count": null,
      "outputs": [
        {
          "output_type": "execute_result",
          "data": {
            "text/plain": [
              "      price  age_08_04     km   hp    cc  doors  gears  quarterly_tax  weight\n",
              "0     13500         23  46986   90  2000      3      5            210    1165\n",
              "1     13750         23  72937   90  2000      3      5            210    1165\n",
              "2     13950         24  41711   90  2000      3      5            210    1165\n",
              "3     14950         26  48000   90  2000      3      5            210    1165\n",
              "4     13750         30  38500   90  2000      3      5            210    1170\n",
              "...     ...        ...    ...  ...   ...    ...    ...            ...     ...\n",
              "1431   7500         69  20544   86  1300      3      5             69    1025\n",
              "1432  10845         72  19000   86  1300      3      5             69    1015\n",
              "1433   8500         71  17016   86  1300      3      5             69    1015\n",
              "1434   7250         70  16916   86  1300      3      5             69    1015\n",
              "1435   6950         76      1  110  1600      5      5             19    1114\n",
              "\n",
              "[1436 rows x 9 columns]"
            ],
            "text/html": [
              "\n",
              "  <div id=\"df-068f0c5c-cf39-4025-82df-15f7ee7f1c3a\">\n",
              "    <div class=\"colab-df-container\">\n",
              "      <div>\n",
              "<style scoped>\n",
              "    .dataframe tbody tr th:only-of-type {\n",
              "        vertical-align: middle;\n",
              "    }\n",
              "\n",
              "    .dataframe tbody tr th {\n",
              "        vertical-align: top;\n",
              "    }\n",
              "\n",
              "    .dataframe thead th {\n",
              "        text-align: right;\n",
              "    }\n",
              "</style>\n",
              "<table border=\"1\" class=\"dataframe\">\n",
              "  <thead>\n",
              "    <tr style=\"text-align: right;\">\n",
              "      <th></th>\n",
              "      <th>price</th>\n",
              "      <th>age_08_04</th>\n",
              "      <th>km</th>\n",
              "      <th>hp</th>\n",
              "      <th>cc</th>\n",
              "      <th>doors</th>\n",
              "      <th>gears</th>\n",
              "      <th>quarterly_tax</th>\n",
              "      <th>weight</th>\n",
              "    </tr>\n",
              "  </thead>\n",
              "  <tbody>\n",
              "    <tr>\n",
              "      <th>0</th>\n",
              "      <td>13500</td>\n",
              "      <td>23</td>\n",
              "      <td>46986</td>\n",
              "      <td>90</td>\n",
              "      <td>2000</td>\n",
              "      <td>3</td>\n",
              "      <td>5</td>\n",
              "      <td>210</td>\n",
              "      <td>1165</td>\n",
              "    </tr>\n",
              "    <tr>\n",
              "      <th>1</th>\n",
              "      <td>13750</td>\n",
              "      <td>23</td>\n",
              "      <td>72937</td>\n",
              "      <td>90</td>\n",
              "      <td>2000</td>\n",
              "      <td>3</td>\n",
              "      <td>5</td>\n",
              "      <td>210</td>\n",
              "      <td>1165</td>\n",
              "    </tr>\n",
              "    <tr>\n",
              "      <th>2</th>\n",
              "      <td>13950</td>\n",
              "      <td>24</td>\n",
              "      <td>41711</td>\n",
              "      <td>90</td>\n",
              "      <td>2000</td>\n",
              "      <td>3</td>\n",
              "      <td>5</td>\n",
              "      <td>210</td>\n",
              "      <td>1165</td>\n",
              "    </tr>\n",
              "    <tr>\n",
              "      <th>3</th>\n",
              "      <td>14950</td>\n",
              "      <td>26</td>\n",
              "      <td>48000</td>\n",
              "      <td>90</td>\n",
              "      <td>2000</td>\n",
              "      <td>3</td>\n",
              "      <td>5</td>\n",
              "      <td>210</td>\n",
              "      <td>1165</td>\n",
              "    </tr>\n",
              "    <tr>\n",
              "      <th>4</th>\n",
              "      <td>13750</td>\n",
              "      <td>30</td>\n",
              "      <td>38500</td>\n",
              "      <td>90</td>\n",
              "      <td>2000</td>\n",
              "      <td>3</td>\n",
              "      <td>5</td>\n",
              "      <td>210</td>\n",
              "      <td>1170</td>\n",
              "    </tr>\n",
              "    <tr>\n",
              "      <th>...</th>\n",
              "      <td>...</td>\n",
              "      <td>...</td>\n",
              "      <td>...</td>\n",
              "      <td>...</td>\n",
              "      <td>...</td>\n",
              "      <td>...</td>\n",
              "      <td>...</td>\n",
              "      <td>...</td>\n",
              "      <td>...</td>\n",
              "    </tr>\n",
              "    <tr>\n",
              "      <th>1431</th>\n",
              "      <td>7500</td>\n",
              "      <td>69</td>\n",
              "      <td>20544</td>\n",
              "      <td>86</td>\n",
              "      <td>1300</td>\n",
              "      <td>3</td>\n",
              "      <td>5</td>\n",
              "      <td>69</td>\n",
              "      <td>1025</td>\n",
              "    </tr>\n",
              "    <tr>\n",
              "      <th>1432</th>\n",
              "      <td>10845</td>\n",
              "      <td>72</td>\n",
              "      <td>19000</td>\n",
              "      <td>86</td>\n",
              "      <td>1300</td>\n",
              "      <td>3</td>\n",
              "      <td>5</td>\n",
              "      <td>69</td>\n",
              "      <td>1015</td>\n",
              "    </tr>\n",
              "    <tr>\n",
              "      <th>1433</th>\n",
              "      <td>8500</td>\n",
              "      <td>71</td>\n",
              "      <td>17016</td>\n",
              "      <td>86</td>\n",
              "      <td>1300</td>\n",
              "      <td>3</td>\n",
              "      <td>5</td>\n",
              "      <td>69</td>\n",
              "      <td>1015</td>\n",
              "    </tr>\n",
              "    <tr>\n",
              "      <th>1434</th>\n",
              "      <td>7250</td>\n",
              "      <td>70</td>\n",
              "      <td>16916</td>\n",
              "      <td>86</td>\n",
              "      <td>1300</td>\n",
              "      <td>3</td>\n",
              "      <td>5</td>\n",
              "      <td>69</td>\n",
              "      <td>1015</td>\n",
              "    </tr>\n",
              "    <tr>\n",
              "      <th>1435</th>\n",
              "      <td>6950</td>\n",
              "      <td>76</td>\n",
              "      <td>1</td>\n",
              "      <td>110</td>\n",
              "      <td>1600</td>\n",
              "      <td>5</td>\n",
              "      <td>5</td>\n",
              "      <td>19</td>\n",
              "      <td>1114</td>\n",
              "    </tr>\n",
              "  </tbody>\n",
              "</table>\n",
              "<p>1436 rows × 9 columns</p>\n",
              "</div>\n",
              "      <button class=\"colab-df-convert\" onclick=\"convertToInteractive('df-068f0c5c-cf39-4025-82df-15f7ee7f1c3a')\"\n",
              "              title=\"Convert this dataframe to an interactive table.\"\n",
              "              style=\"display:none;\">\n",
              "        \n",
              "  <svg xmlns=\"http://www.w3.org/2000/svg\" height=\"24px\"viewBox=\"0 0 24 24\"\n",
              "       width=\"24px\">\n",
              "    <path d=\"M0 0h24v24H0V0z\" fill=\"none\"/>\n",
              "    <path d=\"M18.56 5.44l.94 2.06.94-2.06 2.06-.94-2.06-.94-.94-2.06-.94 2.06-2.06.94zm-11 1L8.5 8.5l.94-2.06 2.06-.94-2.06-.94L8.5 2.5l-.94 2.06-2.06.94zm10 10l.94 2.06.94-2.06 2.06-.94-2.06-.94-.94-2.06-.94 2.06-2.06.94z\"/><path d=\"M17.41 7.96l-1.37-1.37c-.4-.4-.92-.59-1.43-.59-.52 0-1.04.2-1.43.59L10.3 9.45l-7.72 7.72c-.78.78-.78 2.05 0 2.83L4 21.41c.39.39.9.59 1.41.59.51 0 1.02-.2 1.41-.59l7.78-7.78 2.81-2.81c.8-.78.8-2.07 0-2.86zM5.41 20L4 18.59l7.72-7.72 1.47 1.35L5.41 20z\"/>\n",
              "  </svg>\n",
              "      </button>\n",
              "      \n",
              "  <style>\n",
              "    .colab-df-container {\n",
              "      display:flex;\n",
              "      flex-wrap:wrap;\n",
              "      gap: 12px;\n",
              "    }\n",
              "\n",
              "    .colab-df-convert {\n",
              "      background-color: #E8F0FE;\n",
              "      border: none;\n",
              "      border-radius: 50%;\n",
              "      cursor: pointer;\n",
              "      display: none;\n",
              "      fill: #1967D2;\n",
              "      height: 32px;\n",
              "      padding: 0 0 0 0;\n",
              "      width: 32px;\n",
              "    }\n",
              "\n",
              "    .colab-df-convert:hover {\n",
              "      background-color: #E2EBFA;\n",
              "      box-shadow: 0px 1px 2px rgba(60, 64, 67, 0.3), 0px 1px 3px 1px rgba(60, 64, 67, 0.15);\n",
              "      fill: #174EA6;\n",
              "    }\n",
              "\n",
              "    [theme=dark] .colab-df-convert {\n",
              "      background-color: #3B4455;\n",
              "      fill: #D2E3FC;\n",
              "    }\n",
              "\n",
              "    [theme=dark] .colab-df-convert:hover {\n",
              "      background-color: #434B5C;\n",
              "      box-shadow: 0px 1px 3px 1px rgba(0, 0, 0, 0.15);\n",
              "      filter: drop-shadow(0px 1px 2px rgba(0, 0, 0, 0.3));\n",
              "      fill: #FFFFFF;\n",
              "    }\n",
              "  </style>\n",
              "\n",
              "      <script>\n",
              "        const buttonEl =\n",
              "          document.querySelector('#df-068f0c5c-cf39-4025-82df-15f7ee7f1c3a button.colab-df-convert');\n",
              "        buttonEl.style.display =\n",
              "          google.colab.kernel.accessAllowed ? 'block' : 'none';\n",
              "\n",
              "        async function convertToInteractive(key) {\n",
              "          const element = document.querySelector('#df-068f0c5c-cf39-4025-82df-15f7ee7f1c3a');\n",
              "          const dataTable =\n",
              "            await google.colab.kernel.invokeFunction('convertToInteractive',\n",
              "                                                     [key], {});\n",
              "          if (!dataTable) return;\n",
              "\n",
              "          const docLinkHtml = 'Like what you see? Visit the ' +\n",
              "            '<a target=\"_blank\" href=https://colab.research.google.com/notebooks/data_table.ipynb>data table notebook</a>'\n",
              "            + ' to learn more about interactive tables.';\n",
              "          element.innerHTML = '';\n",
              "          dataTable['output_type'] = 'display_data';\n",
              "          await google.colab.output.renderOutput(dataTable, element);\n",
              "          const docLink = document.createElement('div');\n",
              "          docLink.innerHTML = docLinkHtml;\n",
              "          element.appendChild(docLink);\n",
              "        }\n",
              "      </script>\n",
              "    </div>\n",
              "  </div>\n",
              "  "
            ]
          },
          "metadata": {},
          "execution_count": 8
        }
      ]
    },
    {
      "cell_type": "markdown",
      "source": [
        "Split Data into IV or DV"
      ],
      "metadata": {
        "id": "DX1Gywhwz-Bp"
      }
    },
    {
      "cell_type": "code",
      "source": [
        "x=df.iloc[:,[1,2,3,4,5,6,7,8]].values"
      ],
      "metadata": {
        "id": "dsVf9UMC0DvC"
      },
      "execution_count": null,
      "outputs": []
    },
    {
      "cell_type": "code",
      "source": [
        "x"
      ],
      "metadata": {
        "colab": {
          "base_uri": "https://localhost:8080/"
        },
        "id": "JzYCtbyl0aIq",
        "outputId": "cd0780c2-4053-4179-b488-2d1712bce534"
      },
      "execution_count": null,
      "outputs": [
        {
          "output_type": "execute_result",
          "data": {
            "text/plain": [
              "array([[   23, 46986,    90, ...,     5,   210,  1165],\n",
              "       [   23, 72937,    90, ...,     5,   210,  1165],\n",
              "       [   24, 41711,    90, ...,     5,   210,  1165],\n",
              "       ...,\n",
              "       [   71, 17016,    86, ...,     5,    69,  1015],\n",
              "       [   70, 16916,    86, ...,     5,    69,  1015],\n",
              "       [   76,     1,   110, ...,     5,    19,  1114]])"
            ]
          },
          "metadata": {},
          "execution_count": 10
        }
      ]
    },
    {
      "cell_type": "code",
      "source": [
        "y=df.iloc[:,[0]].values"
      ],
      "metadata": {
        "id": "97SGYhfy1m3T"
      },
      "execution_count": null,
      "outputs": []
    },
    {
      "cell_type": "code",
      "source": [
        "y"
      ],
      "metadata": {
        "colab": {
          "base_uri": "https://localhost:8080/"
        },
        "id": "OzUanTI71xNK",
        "outputId": "2421ac80-574a-425a-d6cb-6c4609c0a980"
      },
      "execution_count": null,
      "outputs": [
        {
          "output_type": "execute_result",
          "data": {
            "text/plain": [
              "array([[13500],\n",
              "       [13750],\n",
              "       [13950],\n",
              "       ...,\n",
              "       [ 8500],\n",
              "       [ 7250],\n",
              "       [ 6950]])"
            ]
          },
          "metadata": {},
          "execution_count": 12
        }
      ]
    },
    {
      "cell_type": "code",
      "source": [
        "x.shape"
      ],
      "metadata": {
        "colab": {
          "base_uri": "https://localhost:8080/"
        },
        "id": "vmD9iJFA1yQM",
        "outputId": "61e02266-8c9c-4845-c72c-017a6ec36578"
      },
      "execution_count": null,
      "outputs": [
        {
          "output_type": "execute_result",
          "data": {
            "text/plain": [
              "(1436, 8)"
            ]
          },
          "metadata": {},
          "execution_count": 13
        }
      ]
    },
    {
      "cell_type": "code",
      "source": [
        "x.ndim"
      ],
      "metadata": {
        "colab": {
          "base_uri": "https://localhost:8080/"
        },
        "id": "w7E99SBY2Oi3",
        "outputId": "39031d50-11fc-4f73-d787-92a7222366b1"
      },
      "execution_count": null,
      "outputs": [
        {
          "output_type": "execute_result",
          "data": {
            "text/plain": [
              "2"
            ]
          },
          "metadata": {},
          "execution_count": 14
        }
      ]
    },
    {
      "cell_type": "code",
      "source": [
        "y.shape"
      ],
      "metadata": {
        "colab": {
          "base_uri": "https://localhost:8080/"
        },
        "id": "zGfoGnLt2QXb",
        "outputId": "a12e95c9-f1a7-432e-955d-0968fab666a6"
      },
      "execution_count": null,
      "outputs": [
        {
          "output_type": "execute_result",
          "data": {
            "text/plain": [
              "(1436, 1)"
            ]
          },
          "metadata": {},
          "execution_count": 15
        }
      ]
    },
    {
      "cell_type": "code",
      "source": [
        "y.ndim"
      ],
      "metadata": {
        "colab": {
          "base_uri": "https://localhost:8080/"
        },
        "id": "HAZTStPd2V14",
        "outputId": "3aae220c-a86a-455c-a8c8-5f39e64127ae"
      },
      "execution_count": null,
      "outputs": [
        {
          "output_type": "execute_result",
          "data": {
            "text/plain": [
              "2"
            ]
          },
          "metadata": {},
          "execution_count": 16
        }
      ]
    },
    {
      "cell_type": "code",
      "source": [],
      "metadata": {
        "id": "yRzYW1dm2Xrc"
      },
      "execution_count": null,
      "outputs": []
    },
    {
      "cell_type": "markdown",
      "source": [
        "**Split data into training & testing dataset**"
      ],
      "metadata": {
        "id": "ZkMNCSjb2fWW"
      }
    },
    {
      "cell_type": "code",
      "source": [
        "x_train,x_test,y_train,y_test=train_test_split(x,y,test_size=.2,random_state=1200)"
      ],
      "metadata": {
        "id": "GN9EUtWM2mwC"
      },
      "execution_count": null,
      "outputs": []
    },
    {
      "cell_type": "code",
      "source": [
        "x_train.shape"
      ],
      "metadata": {
        "colab": {
          "base_uri": "https://localhost:8080/"
        },
        "id": "_ybPbUqN3pcX",
        "outputId": "b7520c1a-d924-44f9-c61e-13b3ad9a0e0e"
      },
      "execution_count": null,
      "outputs": [
        {
          "output_type": "execute_result",
          "data": {
            "text/plain": [
              "(1148, 8)"
            ]
          },
          "metadata": {},
          "execution_count": 18
        }
      ]
    },
    {
      "cell_type": "code",
      "source": [
        "print(x_test.shape)\n",
        "print(y_train.shape)\n",
        "print(y_test.shape)"
      ],
      "metadata": {
        "colab": {
          "base_uri": "https://localhost:8080/"
        },
        "id": "qKZ7tc0831rj",
        "outputId": "9a65508e-007d-4837-e7d8-c2c63d74ab7b"
      },
      "execution_count": null,
      "outputs": [
        {
          "output_type": "stream",
          "name": "stdout",
          "text": [
            "(288, 8)\n",
            "(1148, 1)\n",
            "(288, 1)\n"
          ]
        }
      ]
    },
    {
      "cell_type": "code",
      "source": [],
      "metadata": {
        "id": "BHZRzvuw4Oam"
      },
      "execution_count": null,
      "outputs": []
    },
    {
      "cell_type": "markdown",
      "source": [
        "**Fitting Multiple linear regression to training dataset**"
      ],
      "metadata": {
        "id": "Vm9kYqtC5ZTr"
      }
    },
    {
      "cell_type": "code",
      "source": [
        "regg=LinearRegression()"
      ],
      "metadata": {
        "id": "r9l6AusG5djd"
      },
      "execution_count": null,
      "outputs": []
    },
    {
      "cell_type": "code",
      "source": [
        "regg.fit(x_train,y_train)"
      ],
      "metadata": {
        "colab": {
          "base_uri": "https://localhost:8080/",
          "height": 75
        },
        "id": "isaXdPj35nie",
        "outputId": "e252965c-9eaa-4d54-cd91-ca4b75cdb5ad"
      },
      "execution_count": null,
      "outputs": [
        {
          "output_type": "execute_result",
          "data": {
            "text/plain": [
              "LinearRegression()"
            ],
            "text/html": [
              "<style>#sk-container-id-1 {color: black;background-color: white;}#sk-container-id-1 pre{padding: 0;}#sk-container-id-1 div.sk-toggleable {background-color: white;}#sk-container-id-1 label.sk-toggleable__label {cursor: pointer;display: block;width: 100%;margin-bottom: 0;padding: 0.3em;box-sizing: border-box;text-align: center;}#sk-container-id-1 label.sk-toggleable__label-arrow:before {content: \"▸\";float: left;margin-right: 0.25em;color: #696969;}#sk-container-id-1 label.sk-toggleable__label-arrow:hover:before {color: black;}#sk-container-id-1 div.sk-estimator:hover label.sk-toggleable__label-arrow:before {color: black;}#sk-container-id-1 div.sk-toggleable__content {max-height: 0;max-width: 0;overflow: hidden;text-align: left;background-color: #f0f8ff;}#sk-container-id-1 div.sk-toggleable__content pre {margin: 0.2em;color: black;border-radius: 0.25em;background-color: #f0f8ff;}#sk-container-id-1 input.sk-toggleable__control:checked~div.sk-toggleable__content {max-height: 200px;max-width: 100%;overflow: auto;}#sk-container-id-1 input.sk-toggleable__control:checked~label.sk-toggleable__label-arrow:before {content: \"▾\";}#sk-container-id-1 div.sk-estimator input.sk-toggleable__control:checked~label.sk-toggleable__label {background-color: #d4ebff;}#sk-container-id-1 div.sk-label input.sk-toggleable__control:checked~label.sk-toggleable__label {background-color: #d4ebff;}#sk-container-id-1 input.sk-hidden--visually {border: 0;clip: rect(1px 1px 1px 1px);clip: rect(1px, 1px, 1px, 1px);height: 1px;margin: -1px;overflow: hidden;padding: 0;position: absolute;width: 1px;}#sk-container-id-1 div.sk-estimator {font-family: monospace;background-color: #f0f8ff;border: 1px dotted black;border-radius: 0.25em;box-sizing: border-box;margin-bottom: 0.5em;}#sk-container-id-1 div.sk-estimator:hover {background-color: #d4ebff;}#sk-container-id-1 div.sk-parallel-item::after {content: \"\";width: 100%;border-bottom: 1px solid gray;flex-grow: 1;}#sk-container-id-1 div.sk-label:hover label.sk-toggleable__label {background-color: #d4ebff;}#sk-container-id-1 div.sk-serial::before {content: \"\";position: absolute;border-left: 1px solid gray;box-sizing: border-box;top: 0;bottom: 0;left: 50%;z-index: 0;}#sk-container-id-1 div.sk-serial {display: flex;flex-direction: column;align-items: center;background-color: white;padding-right: 0.2em;padding-left: 0.2em;position: relative;}#sk-container-id-1 div.sk-item {position: relative;z-index: 1;}#sk-container-id-1 div.sk-parallel {display: flex;align-items: stretch;justify-content: center;background-color: white;position: relative;}#sk-container-id-1 div.sk-item::before, #sk-container-id-1 div.sk-parallel-item::before {content: \"\";position: absolute;border-left: 1px solid gray;box-sizing: border-box;top: 0;bottom: 0;left: 50%;z-index: -1;}#sk-container-id-1 div.sk-parallel-item {display: flex;flex-direction: column;z-index: 1;position: relative;background-color: white;}#sk-container-id-1 div.sk-parallel-item:first-child::after {align-self: flex-end;width: 50%;}#sk-container-id-1 div.sk-parallel-item:last-child::after {align-self: flex-start;width: 50%;}#sk-container-id-1 div.sk-parallel-item:only-child::after {width: 0;}#sk-container-id-1 div.sk-dashed-wrapped {border: 1px dashed gray;margin: 0 0.4em 0.5em 0.4em;box-sizing: border-box;padding-bottom: 0.4em;background-color: white;}#sk-container-id-1 div.sk-label label {font-family: monospace;font-weight: bold;display: inline-block;line-height: 1.2em;}#sk-container-id-1 div.sk-label-container {text-align: center;}#sk-container-id-1 div.sk-container {/* jupyter's `normalize.less` sets `[hidden] { display: none; }` but bootstrap.min.css set `[hidden] { display: none !important; }` so we also need the `!important` here to be able to override the default hidden behavior on the sphinx rendered scikit-learn.org. See: https://github.com/scikit-learn/scikit-learn/issues/21755 */display: inline-block !important;position: relative;}#sk-container-id-1 div.sk-text-repr-fallback {display: none;}</style><div id=\"sk-container-id-1\" class=\"sk-top-container\"><div class=\"sk-text-repr-fallback\"><pre>LinearRegression()</pre><b>In a Jupyter environment, please rerun this cell to show the HTML representation or trust the notebook. <br />On GitHub, the HTML representation is unable to render, please try loading this page with nbviewer.org.</b></div><div class=\"sk-container\" hidden><div class=\"sk-item\"><div class=\"sk-estimator sk-toggleable\"><input class=\"sk-toggleable__control sk-hidden--visually\" id=\"sk-estimator-id-1\" type=\"checkbox\" checked><label for=\"sk-estimator-id-1\" class=\"sk-toggleable__label sk-toggleable__label-arrow\">LinearRegression</label><div class=\"sk-toggleable__content\"><pre>LinearRegression()</pre></div></div></div></div></div>"
            ]
          },
          "metadata": {},
          "execution_count": 21
        }
      ]
    },
    {
      "cell_type": "code",
      "source": [
        "regg.intercept_"
      ],
      "metadata": {
        "colab": {
          "base_uri": "https://localhost:8080/"
        },
        "id": "2YHUfxiG-Tgd",
        "outputId": "8d45b362-a8eb-4a2d-b287-f3b98eb8fa47"
      },
      "execution_count": null,
      "outputs": [
        {
          "output_type": "execute_result",
          "data": {
            "text/plain": [
              "array([-5439.99003263])"
            ]
          },
          "metadata": {},
          "execution_count": 22
        }
      ]
    },
    {
      "cell_type": "code",
      "source": [
        "regg.score(x_test,y_test)"
      ],
      "metadata": {
        "colab": {
          "base_uri": "https://localhost:8080/"
        },
        "id": "bLaW-cbN5xKm",
        "outputId": "5b4d6e30-2054-406f-8a64-b7508d9a7f99"
      },
      "execution_count": null,
      "outputs": [
        {
          "output_type": "execute_result",
          "data": {
            "text/plain": [
              "0.8723630328786833"
            ]
          },
          "metadata": {},
          "execution_count": 23
        }
      ]
    },
    {
      "cell_type": "code",
      "source": [
        "regg.score(x_train,y_train)"
      ],
      "metadata": {
        "colab": {
          "base_uri": "https://localhost:8080/"
        },
        "id": "76aVR4gK9_dl",
        "outputId": "9da5a498-f019-43e0-eb9d-8edba58b7e45"
      },
      "execution_count": null,
      "outputs": [
        {
          "output_type": "execute_result",
          "data": {
            "text/plain": [
              "0.8611080182384747"
            ]
          },
          "metadata": {},
          "execution_count": 24
        }
      ]
    },
    {
      "cell_type": "code",
      "source": [
        "y_pred=regg.predict(x_test)"
      ],
      "metadata": {
        "id": "y4vsG2nB-LIe"
      },
      "execution_count": null,
      "outputs": []
    },
    {
      "cell_type": "code",
      "source": [
        "print(r2_score(y_test, y_pred))"
      ],
      "metadata": {
        "colab": {
          "base_uri": "https://localhost:8080/"
        },
        "id": "a0Wq_8pL_S5h",
        "outputId": "975473f2-435a-461a-e689-72af3f439b0d"
      },
      "execution_count": null,
      "outputs": [
        {
          "output_type": "stream",
          "name": "stdout",
          "text": [
            "0.8723630328786833\n"
          ]
        }
      ]
    },
    {
      "cell_type": "code",
      "source": [],
      "metadata": {
        "id": "nvz02GoE_4jW"
      },
      "execution_count": null,
      "outputs": []
    },
    {
      "cell_type": "markdown",
      "source": [
        "Predicting on test dataset"
      ],
      "metadata": {
        "id": "6K7AoD0S_KFu"
      }
    },
    {
      "cell_type": "code",
      "source": [],
      "metadata": {
        "id": "q43BYfsU_OS4"
      },
      "execution_count": null,
      "outputs": []
    },
    {
      "cell_type": "code",
      "source": [
        "y_predict=regg.predict(x_test)\n",
        "print(y_predict)"
      ],
      "metadata": {
        "colab": {
          "base_uri": "https://localhost:8080/"
        },
        "id": "qM5g7Mxd_O93",
        "outputId": "37e13360-89c9-4352-9ba4-0144766a31de"
      },
      "execution_count": null,
      "outputs": [
        {
          "output_type": "stream",
          "name": "stdout",
          "text": [
            "[[ 9670.75516351]\n",
            " [16663.88533233]\n",
            " [ 9952.42514308]\n",
            " [ 8261.87393766]\n",
            " [ 9654.41486267]\n",
            " [17164.78060641]\n",
            " [ 8335.99184461]\n",
            " [12643.07416017]\n",
            " [ 9583.76223717]\n",
            " [11275.19302172]\n",
            " [ 7200.73508454]\n",
            " [ 7858.48081642]\n",
            " [11877.69295548]\n",
            " [ 8610.42538723]\n",
            " [ 9458.88547039]\n",
            " [ 7649.60963839]\n",
            " [10971.94435062]\n",
            " [ 9793.02614223]\n",
            " [15823.26241573]\n",
            " [10942.37007908]\n",
            " [18801.71546359]\n",
            " [ 8709.0531973 ]\n",
            " [ 9441.91876847]\n",
            " [17865.21989979]\n",
            " [11519.43374778]\n",
            " [10254.71980546]\n",
            " [ 6267.16303704]\n",
            " [ 9771.82615458]\n",
            " [16295.62503712]\n",
            " [ 4542.2949003 ]\n",
            " [14856.51537914]\n",
            " [18962.25779199]\n",
            " [16273.65865519]\n",
            " [10054.19854404]\n",
            " [17331.38725364]\n",
            " [19272.70222841]\n",
            " [10889.60406999]\n",
            " [16631.23954163]\n",
            " [12937.86214194]\n",
            " [ 8213.8751966 ]\n",
            " [22268.18852957]\n",
            " [ 9500.98056906]\n",
            " [ 8155.27614923]\n",
            " [11417.37840389]\n",
            " [ 5513.22131033]\n",
            " [ 6619.80534756]\n",
            " [ 8830.11839419]\n",
            " [10524.19618173]\n",
            " [ 8754.08161592]\n",
            " [ 7952.97341669]\n",
            " [ 7945.53251675]\n",
            " [ 9701.70782731]\n",
            " [ 7905.94181263]\n",
            " [16655.89235577]\n",
            " [12219.5875324 ]\n",
            " [21331.00160321]\n",
            " [ 9043.23890242]\n",
            " [14183.67819328]\n",
            " [ 9162.98614035]\n",
            " [ 9491.12216923]\n",
            " [10001.74618527]\n",
            " [10356.75694012]\n",
            " [ 5603.35651362]\n",
            " [12777.4179089 ]\n",
            " [11224.85502087]\n",
            " [ 8169.56502508]\n",
            " [18682.64365418]\n",
            " [ 8103.65032307]\n",
            " [10174.43081685]\n",
            " [11635.81521237]\n",
            " [ 6474.27009962]\n",
            " [ 8562.88815911]\n",
            " [14717.79404372]\n",
            " [ 6565.46454729]\n",
            " [ 9973.4823822 ]\n",
            " [ 6031.75805618]\n",
            " [ 8854.20613939]\n",
            " [ 9495.79602541]\n",
            " [13059.64073745]\n",
            " [ 7322.1060275 ]\n",
            " [10646.07036063]\n",
            " [ 7998.91082236]\n",
            " [15923.45839792]\n",
            " [ 9368.92360672]\n",
            " [12109.43605264]\n",
            " [11308.81099349]\n",
            " [ 9633.57965453]\n",
            " [17118.21709015]\n",
            " [10903.2603826 ]\n",
            " [18883.69759077]\n",
            " [11718.37538835]\n",
            " [ 7681.80642795]\n",
            " [18938.45885222]\n",
            " [10536.14963273]\n",
            " [ 7567.0653264 ]\n",
            " [14167.42204764]\n",
            " [ 7063.07252628]\n",
            " [ 7797.08934731]\n",
            " [ 9409.12795741]\n",
            " [ 9049.18480523]\n",
            " [10390.10090949]\n",
            " [13227.85227098]\n",
            " [ 8725.9709733 ]\n",
            " [11145.47020845]\n",
            " [20577.03152829]\n",
            " [12561.14239338]\n",
            " [15315.46477279]\n",
            " [ 7761.41046927]\n",
            " [ 9773.23076215]\n",
            " [ 8190.46687013]\n",
            " [10313.04827105]\n",
            " [ 7878.05880837]\n",
            " [11393.87130694]\n",
            " [ 5617.68471009]\n",
            " [10686.76428832]\n",
            " [10597.53919697]\n",
            " [11362.81780162]\n",
            " [18610.88687256]\n",
            " [ 7552.12555251]\n",
            " [ 7432.76252532]\n",
            " [14109.84906536]\n",
            " [ 8455.86771707]\n",
            " [ 9911.04062239]\n",
            " [13108.56612287]\n",
            " [ 6480.27655333]\n",
            " [ 5971.82415814]\n",
            " [10315.4546187 ]\n",
            " [ 7393.80377356]\n",
            " [14068.81597925]\n",
            " [ 8234.47712266]\n",
            " [ 9132.02369604]\n",
            " [11037.14018257]\n",
            " [18595.85812984]\n",
            " [13343.06958924]\n",
            " [ 8629.65505944]\n",
            " [17478.11892043]\n",
            " [ 9919.36881763]\n",
            " [13947.4073943 ]\n",
            " [10149.48452529]\n",
            " [18175.7619118 ]\n",
            " [11894.94333616]\n",
            " [ 8632.78424211]\n",
            " [ 8695.73377562]\n",
            " [ 6394.29952932]\n",
            " [ 8322.69392355]\n",
            " [ 8387.66188485]\n",
            " [ 8903.7616234 ]\n",
            " [ 9511.57625833]\n",
            " [ 8179.63555142]\n",
            " [10537.55895233]\n",
            " [10590.00160018]\n",
            " [14150.86839075]\n",
            " [ 5527.71590793]\n",
            " [12023.93832969]\n",
            " [10854.588419  ]\n",
            " [ 7083.52263805]\n",
            " [11236.49404011]\n",
            " [ 9323.66163733]\n",
            " [17968.83484983]\n",
            " [ 9049.43597718]\n",
            " [ 8167.62798903]\n",
            " [ 7188.73362608]\n",
            " [10638.11352997]\n",
            " [ 7463.25469927]\n",
            " [ 9243.5103477 ]\n",
            " [ 7388.97093565]\n",
            " [ 7925.5925121 ]\n",
            " [15545.20812172]\n",
            " [ 7859.52906071]\n",
            " [ 9883.62572559]\n",
            " [ 9319.55450013]\n",
            " [10929.7554711 ]\n",
            " [11116.49469793]\n",
            " [ 8585.74441669]\n",
            " [ 6716.07503779]\n",
            " [16102.65910602]\n",
            " [10635.69100835]\n",
            " [11367.09537266]\n",
            " [15434.27856106]\n",
            " [10763.8192357 ]\n",
            " [ 8515.59853084]\n",
            " [13940.78234049]\n",
            " [14409.50651445]\n",
            " [ 6865.62691089]\n",
            " [ 5583.07144117]\n",
            " [10779.74474452]\n",
            " [ 7571.35493912]\n",
            " [ 8056.74915791]\n",
            " [10450.63881528]\n",
            " [ 7406.74932741]\n",
            " [ 8735.71620807]\n",
            " [10228.47814492]\n",
            " [10862.65459347]\n",
            " [15167.92555326]\n",
            " [ 7693.46242355]\n",
            " [10492.66236065]\n",
            " [13376.18484901]\n",
            " [ 9959.45473394]\n",
            " [14646.05134391]\n",
            " [17455.3717868 ]\n",
            " [ 8195.39833362]\n",
            " [ 7335.02062086]\n",
            " [ 9659.59941881]\n",
            " [ 9733.779908  ]\n",
            " [13604.80306166]\n",
            " [11414.96981321]\n",
            " [ 8304.26075048]\n",
            " [11331.49629977]\n",
            " [15195.11948623]\n",
            " [ 7478.05045604]\n",
            " [17080.37541417]\n",
            " [ 7731.72775397]\n",
            " [13580.34475937]\n",
            " [ 8049.40726151]\n",
            " [10696.75843931]\n",
            " [17084.69518721]\n",
            " [ 9075.17664143]\n",
            " [10384.17734423]\n",
            " [ 8841.60292259]\n",
            " [14038.17036552]\n",
            " [14408.51196125]\n",
            " [ 6389.00569836]\n",
            " [ 7971.99708688]\n",
            " [16538.66177964]\n",
            " [11055.3212855 ]\n",
            " [13528.73537025]\n",
            " [11490.15053013]\n",
            " [12396.94648133]\n",
            " [ 5922.55888904]\n",
            " [12212.00264776]\n",
            " [ 9878.54732964]\n",
            " [10839.73365655]\n",
            " [ 8966.83667342]\n",
            " [ 9496.08832291]\n",
            " [11728.41352085]\n",
            " [17454.13862639]\n",
            " [ 8019.79177668]\n",
            " [ 8826.95325768]\n",
            " [15846.4361797 ]\n",
            " [ 7840.35231516]\n",
            " [ 9920.9702699 ]\n",
            " [ 9729.27681002]\n",
            " [17831.16238686]\n",
            " [ 8458.8579967 ]\n",
            " [10385.33392468]\n",
            " [10517.92107533]\n",
            " [ 8569.3699339 ]\n",
            " [16548.95791742]\n",
            " [10268.90448776]\n",
            " [ 7809.20544278]\n",
            " [ 8365.09775688]\n",
            " [ 7622.02232754]\n",
            " [10101.77462936]\n",
            " [ 8662.12389596]\n",
            " [16307.79406014]\n",
            " [18063.44083458]\n",
            " [20492.19721265]\n",
            " [ 7683.85451109]\n",
            " [ 9662.44315255]\n",
            " [ 7021.22437416]\n",
            " [ 9175.48471713]\n",
            " [10141.34010207]\n",
            " [ 9753.16832865]\n",
            " [18267.85883138]\n",
            " [10539.50064721]\n",
            " [12036.59913098]\n",
            " [16866.00510024]\n",
            " [13054.15549779]\n",
            " [12357.69706312]\n",
            " [15137.22172737]\n",
            " [ 7226.12116075]\n",
            " [10285.58907164]\n",
            " [11033.66885644]\n",
            " [16333.03830774]\n",
            " [13227.42513901]\n",
            " [ 7640.90701414]\n",
            " [ 8866.51209708]\n",
            " [11457.65141978]\n",
            " [ 8518.24207056]\n",
            " [11105.62058764]\n",
            " [ 8674.20056058]\n",
            " [12735.27158816]\n",
            " [ 6271.70029688]\n",
            " [ 9267.66325664]\n",
            " [ 7067.94342882]\n",
            " [ 9506.92874656]\n",
            " [ 7489.42198512]\n",
            " [ 8050.93830683]]\n"
          ]
        }
      ]
    },
    {
      "cell_type": "code",
      "source": [
        "\n"
      ],
      "metadata": {
        "id": "3MMVMKsu_R4v"
      },
      "execution_count": null,
      "outputs": []
    }
  ]
}